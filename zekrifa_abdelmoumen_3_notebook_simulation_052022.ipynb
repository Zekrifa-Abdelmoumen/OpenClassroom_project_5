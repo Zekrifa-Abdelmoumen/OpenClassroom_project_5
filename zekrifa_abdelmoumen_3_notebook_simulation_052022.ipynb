{
 "cells": [
  {
   "cell_type": "code",
   "execution_count": 1,
   "id": "ffd5aa41",
   "metadata": {},
   "outputs": [],
   "source": [
    "import numpy as np\n",
    "import seaborn as sns\n",
    "import pandas as pd\n",
    "from matplotlib import pyplot as plt\n",
    "import missingno as msno\n",
    "pd.options.display.max_columns = 200\n",
    "pd.options.display.max_rows = 100\n",
    "from sklearn.metrics.cluster import adjusted_rand_score\n",
    "sns.set_theme(style=\"whitegrid\")"
   ]
  },
  {
   "cell_type": "code",
   "execution_count": 2,
   "id": "b2646160",
   "metadata": {},
   "outputs": [
    {
     "data": {
      "text/html": [
       "<div>\n",
       "<style scoped>\n",
       "    .dataframe tbody tr th:only-of-type {\n",
       "        vertical-align: middle;\n",
       "    }\n",
       "\n",
       "    .dataframe tbody tr th {\n",
       "        vertical-align: top;\n",
       "    }\n",
       "\n",
       "    .dataframe thead th {\n",
       "        text-align: right;\n",
       "    }\n",
       "</style>\n",
       "<table border=\"1\" class=\"dataframe\">\n",
       "  <thead>\n",
       "    <tr style=\"text-align: right;\">\n",
       "      <th></th>\n",
       "      <th>customer_unique_id</th>\n",
       "      <th>n_achats</th>\n",
       "      <th>fright_value</th>\n",
       "      <th>price</th>\n",
       "      <th>total_price</th>\n",
       "      <th>n_article</th>\n",
       "      <th>recent</th>\n",
       "      <th>frequence</th>\n",
       "    </tr>\n",
       "  </thead>\n",
       "  <tbody>\n",
       "    <tr>\n",
       "      <th>0</th>\n",
       "      <td>0000f46a3911fa3c0805444483337064</td>\n",
       "      <td>1</td>\n",
       "      <td>17.22</td>\n",
       "      <td>69.00</td>\n",
       "      <td>86.22</td>\n",
       "      <td>1.0</td>\n",
       "      <td>358</td>\n",
       "      <td>358.0</td>\n",
       "    </tr>\n",
       "    <tr>\n",
       "      <th>1</th>\n",
       "      <td>0000f6ccb0745a6a4b88665a16c9f078</td>\n",
       "      <td>1</td>\n",
       "      <td>17.63</td>\n",
       "      <td>25.99</td>\n",
       "      <td>43.62</td>\n",
       "      <td>1.0</td>\n",
       "      <td>142</td>\n",
       "      <td>142.0</td>\n",
       "    </tr>\n",
       "    <tr>\n",
       "      <th>2</th>\n",
       "      <td>0004aac84e0df4da2b147fca70cf8255</td>\n",
       "      <td>1</td>\n",
       "      <td>16.89</td>\n",
       "      <td>180.00</td>\n",
       "      <td>196.89</td>\n",
       "      <td>1.0</td>\n",
       "      <td>109</td>\n",
       "      <td>109.0</td>\n",
       "    </tr>\n",
       "    <tr>\n",
       "      <th>3</th>\n",
       "      <td>00053a61a98854899e70ed204dd4bafe</td>\n",
       "      <td>1</td>\n",
       "      <td>37.18</td>\n",
       "      <td>382.00</td>\n",
       "      <td>419.18</td>\n",
       "      <td>2.0</td>\n",
       "      <td>3</td>\n",
       "      <td>3.0</td>\n",
       "    </tr>\n",
       "    <tr>\n",
       "      <th>4</th>\n",
       "      <td>0005e1862207bf6ccc02e4228effd9a0</td>\n",
       "      <td>1</td>\n",
       "      <td>15.12</td>\n",
       "      <td>135.00</td>\n",
       "      <td>150.12</td>\n",
       "      <td>1.0</td>\n",
       "      <td>364</td>\n",
       "      <td>364.0</td>\n",
       "    </tr>\n",
       "    <tr>\n",
       "      <th>...</th>\n",
       "      <td>...</td>\n",
       "      <td>...</td>\n",
       "      <td>...</td>\n",
       "      <td>...</td>\n",
       "      <td>...</td>\n",
       "      <td>...</td>\n",
       "      <td>...</td>\n",
       "      <td>...</td>\n",
       "    </tr>\n",
       "    <tr>\n",
       "      <th>58240</th>\n",
       "      <td>fffbf87b7a1a6fa8b03f081c5f51a201</td>\n",
       "      <td>1</td>\n",
       "      <td>18.32</td>\n",
       "      <td>149.00</td>\n",
       "      <td>167.32</td>\n",
       "      <td>1.0</td>\n",
       "      <td>66</td>\n",
       "      <td>66.0</td>\n",
       "    </tr>\n",
       "    <tr>\n",
       "      <th>58241</th>\n",
       "      <td>fffcf5a5ff07b0908bd4e2dbc735a684</td>\n",
       "      <td>1</td>\n",
       "      <td>497.42</td>\n",
       "      <td>1570.00</td>\n",
       "      <td>2067.42</td>\n",
       "      <td>2.0</td>\n",
       "      <td>268</td>\n",
       "      <td>268.0</td>\n",
       "    </tr>\n",
       "    <tr>\n",
       "      <th>58242</th>\n",
       "      <td>fffea47cd6d3cc0a88bd621562a9d061</td>\n",
       "      <td>1</td>\n",
       "      <td>19.69</td>\n",
       "      <td>64.89</td>\n",
       "      <td>84.58</td>\n",
       "      <td>1.0</td>\n",
       "      <td>83</td>\n",
       "      <td>83.0</td>\n",
       "    </tr>\n",
       "    <tr>\n",
       "      <th>58243</th>\n",
       "      <td>ffff371b4d645b6ecea244b27531430a</td>\n",
       "      <td>1</td>\n",
       "      <td>22.56</td>\n",
       "      <td>89.90</td>\n",
       "      <td>112.46</td>\n",
       "      <td>1.0</td>\n",
       "      <td>389</td>\n",
       "      <td>389.0</td>\n",
       "    </tr>\n",
       "    <tr>\n",
       "      <th>58244</th>\n",
       "      <td>ffffd2657e2aad2907e67c3e9daecbeb</td>\n",
       "      <td>1</td>\n",
       "      <td>14.57</td>\n",
       "      <td>56.99</td>\n",
       "      <td>71.56</td>\n",
       "      <td>1.0</td>\n",
       "      <td>305</td>\n",
       "      <td>305.0</td>\n",
       "    </tr>\n",
       "  </tbody>\n",
       "</table>\n",
       "<p>58245 rows × 8 columns</p>\n",
       "</div>"
      ],
      "text/plain": [
       "                     customer_unique_id  n_achats  fright_value    price  \\\n",
       "0      0000f46a3911fa3c0805444483337064         1         17.22    69.00   \n",
       "1      0000f6ccb0745a6a4b88665a16c9f078         1         17.63    25.99   \n",
       "2      0004aac84e0df4da2b147fca70cf8255         1         16.89   180.00   \n",
       "3      00053a61a98854899e70ed204dd4bafe         1         37.18   382.00   \n",
       "4      0005e1862207bf6ccc02e4228effd9a0         1         15.12   135.00   \n",
       "...                                 ...       ...           ...      ...   \n",
       "58240  fffbf87b7a1a6fa8b03f081c5f51a201         1         18.32   149.00   \n",
       "58241  fffcf5a5ff07b0908bd4e2dbc735a684         1        497.42  1570.00   \n",
       "58242  fffea47cd6d3cc0a88bd621562a9d061         1         19.69    64.89   \n",
       "58243  ffff371b4d645b6ecea244b27531430a         1         22.56    89.90   \n",
       "58244  ffffd2657e2aad2907e67c3e9daecbeb         1         14.57    56.99   \n",
       "\n",
       "       total_price  n_article  recent  frequence  \n",
       "0            86.22        1.0     358      358.0  \n",
       "1            43.62        1.0     142      142.0  \n",
       "2           196.89        1.0     109      109.0  \n",
       "3           419.18        2.0       3        3.0  \n",
       "4           150.12        1.0     364      364.0  \n",
       "...            ...        ...     ...        ...  \n",
       "58240       167.32        1.0      66       66.0  \n",
       "58241      2067.42        2.0     268      268.0  \n",
       "58242        84.58        1.0      83       83.0  \n",
       "58243       112.46        1.0     389      389.0  \n",
       "58244        71.56        1.0     305      305.0  \n",
       "\n",
       "[58245 rows x 8 columns]"
      ]
     },
     "execution_count": 2,
     "metadata": {},
     "output_type": "execute_result"
    }
   ],
   "source": [
    "data_ord_1 = pd.read_csv('data_ord_1.csv')\n",
    "data_ord_2 = pd.read_csv('data_ord_2.csv')\n",
    "data_ord_3 = pd.read_csv('data_ord_3.csv')\n",
    "data_ord_4 = pd.read_csv('data_ord_4.csv')\n",
    "data_ord_5 = pd.read_csv('data_ord_5.csv')\n",
    "data_ord_1"
   ]
  },
  {
   "cell_type": "code",
   "execution_count": 3,
   "id": "6476d268",
   "metadata": {},
   "outputs": [
    {
     "data": {
      "text/html": [
       "<div>\n",
       "<style scoped>\n",
       "    .dataframe tbody tr th:only-of-type {\n",
       "        vertical-align: middle;\n",
       "    }\n",
       "\n",
       "    .dataframe tbody tr th {\n",
       "        vertical-align: top;\n",
       "    }\n",
       "\n",
       "    .dataframe thead th {\n",
       "        text-align: right;\n",
       "    }\n",
       "</style>\n",
       "<table border=\"1\" class=\"dataframe\">\n",
       "  <thead>\n",
       "    <tr style=\"text-align: right;\">\n",
       "      <th></th>\n",
       "      <th>customer_unique_id</th>\n",
       "      <th>n_achats</th>\n",
       "      <th>fright_value</th>\n",
       "      <th>price</th>\n",
       "      <th>total_price</th>\n",
       "      <th>n_article</th>\n",
       "      <th>recent</th>\n",
       "      <th>frequence</th>\n",
       "    </tr>\n",
       "  </thead>\n",
       "  <tbody>\n",
       "    <tr>\n",
       "      <th>0</th>\n",
       "      <td>0000f46a3911fa3c0805444483337064</td>\n",
       "      <td>1</td>\n",
       "      <td>17.22</td>\n",
       "      <td>69.00</td>\n",
       "      <td>86.22</td>\n",
       "      <td>1.0</td>\n",
       "      <td>358</td>\n",
       "      <td>358.0</td>\n",
       "    </tr>\n",
       "    <tr>\n",
       "      <th>1</th>\n",
       "      <td>0000f6ccb0745a6a4b88665a16c9f078</td>\n",
       "      <td>1</td>\n",
       "      <td>17.63</td>\n",
       "      <td>25.99</td>\n",
       "      <td>43.62</td>\n",
       "      <td>1.0</td>\n",
       "      <td>142</td>\n",
       "      <td>142.0</td>\n",
       "    </tr>\n",
       "    <tr>\n",
       "      <th>2</th>\n",
       "      <td>0004aac84e0df4da2b147fca70cf8255</td>\n",
       "      <td>1</td>\n",
       "      <td>16.89</td>\n",
       "      <td>180.00</td>\n",
       "      <td>196.89</td>\n",
       "      <td>1.0</td>\n",
       "      <td>109</td>\n",
       "      <td>109.0</td>\n",
       "    </tr>\n",
       "    <tr>\n",
       "      <th>3</th>\n",
       "      <td>00053a61a98854899e70ed204dd4bafe</td>\n",
       "      <td>1</td>\n",
       "      <td>37.18</td>\n",
       "      <td>382.00</td>\n",
       "      <td>419.18</td>\n",
       "      <td>2.0</td>\n",
       "      <td>3</td>\n",
       "      <td>3.0</td>\n",
       "    </tr>\n",
       "    <tr>\n",
       "      <th>4</th>\n",
       "      <td>0005e1862207bf6ccc02e4228effd9a0</td>\n",
       "      <td>1</td>\n",
       "      <td>15.12</td>\n",
       "      <td>135.00</td>\n",
       "      <td>150.12</td>\n",
       "      <td>1.0</td>\n",
       "      <td>364</td>\n",
       "      <td>364.0</td>\n",
       "    </tr>\n",
       "    <tr>\n",
       "      <th>...</th>\n",
       "      <td>...</td>\n",
       "      <td>...</td>\n",
       "      <td>...</td>\n",
       "      <td>...</td>\n",
       "      <td>...</td>\n",
       "      <td>...</td>\n",
       "      <td>...</td>\n",
       "      <td>...</td>\n",
       "    </tr>\n",
       "    <tr>\n",
       "      <th>58240</th>\n",
       "      <td>fffbf87b7a1a6fa8b03f081c5f51a201</td>\n",
       "      <td>1</td>\n",
       "      <td>18.32</td>\n",
       "      <td>149.00</td>\n",
       "      <td>167.32</td>\n",
       "      <td>1.0</td>\n",
       "      <td>66</td>\n",
       "      <td>66.0</td>\n",
       "    </tr>\n",
       "    <tr>\n",
       "      <th>58241</th>\n",
       "      <td>fffcf5a5ff07b0908bd4e2dbc735a684</td>\n",
       "      <td>1</td>\n",
       "      <td>497.42</td>\n",
       "      <td>1570.00</td>\n",
       "      <td>2067.42</td>\n",
       "      <td>2.0</td>\n",
       "      <td>268</td>\n",
       "      <td>268.0</td>\n",
       "    </tr>\n",
       "    <tr>\n",
       "      <th>58242</th>\n",
       "      <td>fffea47cd6d3cc0a88bd621562a9d061</td>\n",
       "      <td>1</td>\n",
       "      <td>19.69</td>\n",
       "      <td>64.89</td>\n",
       "      <td>84.58</td>\n",
       "      <td>1.0</td>\n",
       "      <td>83</td>\n",
       "      <td>83.0</td>\n",
       "    </tr>\n",
       "    <tr>\n",
       "      <th>58243</th>\n",
       "      <td>ffff371b4d645b6ecea244b27531430a</td>\n",
       "      <td>1</td>\n",
       "      <td>22.56</td>\n",
       "      <td>89.90</td>\n",
       "      <td>112.46</td>\n",
       "      <td>1.0</td>\n",
       "      <td>389</td>\n",
       "      <td>389.0</td>\n",
       "    </tr>\n",
       "    <tr>\n",
       "      <th>58244</th>\n",
       "      <td>ffffd2657e2aad2907e67c3e9daecbeb</td>\n",
       "      <td>1</td>\n",
       "      <td>14.57</td>\n",
       "      <td>56.99</td>\n",
       "      <td>71.56</td>\n",
       "      <td>1.0</td>\n",
       "      <td>305</td>\n",
       "      <td>305.0</td>\n",
       "    </tr>\n",
       "  </tbody>\n",
       "</table>\n",
       "<p>58244 rows × 8 columns</p>\n",
       "</div>"
      ],
      "text/plain": [
       "                     customer_unique_id  n_achats  fright_value    price  \\\n",
       "0      0000f46a3911fa3c0805444483337064         1         17.22    69.00   \n",
       "1      0000f6ccb0745a6a4b88665a16c9f078         1         17.63    25.99   \n",
       "2      0004aac84e0df4da2b147fca70cf8255         1         16.89   180.00   \n",
       "3      00053a61a98854899e70ed204dd4bafe         1         37.18   382.00   \n",
       "4      0005e1862207bf6ccc02e4228effd9a0         1         15.12   135.00   \n",
       "...                                 ...       ...           ...      ...   \n",
       "58240  fffbf87b7a1a6fa8b03f081c5f51a201         1         18.32   149.00   \n",
       "58241  fffcf5a5ff07b0908bd4e2dbc735a684         1        497.42  1570.00   \n",
       "58242  fffea47cd6d3cc0a88bd621562a9d061         1         19.69    64.89   \n",
       "58243  ffff371b4d645b6ecea244b27531430a         1         22.56    89.90   \n",
       "58244  ffffd2657e2aad2907e67c3e9daecbeb         1         14.57    56.99   \n",
       "\n",
       "       total_price  n_article  recent  frequence  \n",
       "0            86.22        1.0     358      358.0  \n",
       "1            43.62        1.0     142      142.0  \n",
       "2           196.89        1.0     109      109.0  \n",
       "3           419.18        2.0       3        3.0  \n",
       "4           150.12        1.0     364      364.0  \n",
       "...            ...        ...     ...        ...  \n",
       "58240       167.32        1.0      66       66.0  \n",
       "58241      2067.42        2.0     268      268.0  \n",
       "58242        84.58        1.0      83       83.0  \n",
       "58243       112.46        1.0     389      389.0  \n",
       "58244        71.56        1.0     305      305.0  \n",
       "\n",
       "[58244 rows x 8 columns]"
      ]
     },
     "execution_count": 3,
     "metadata": {},
     "output_type": "execute_result"
    }
   ],
   "source": [
    "data_ord_1.dropna(subset=['total_price'],inplace=True)\n",
    "data_ord_1"
   ]
  },
  {
   "cell_type": "code",
   "execution_count": 4,
   "id": "57b0e238",
   "metadata": {},
   "outputs": [],
   "source": [
    "data1=data_ord_1[['n_achats','recent','frequence','total_price']]\n",
    "data2=data_ord_2[['n_achats','recent','frequence','total_price']]\n",
    "data3=data_ord_3[['n_achats','recent','frequence','total_price']]\n",
    "data4=data_ord_4[['n_achats','recent','frequence','total_price']]\n",
    "data5=data_ord_5[['n_achats','recent','frequence','total_price']]"
   ]
  },
  {
   "cell_type": "code",
   "execution_count": 5,
   "id": "da47c0d7",
   "metadata": {},
   "outputs": [],
   "source": [
    "from sklearn import preprocessing, cluster, metrics\n",
    "scaler=preprocessing.StandardScaler()\n",
    "scaler.fit(data1)\n",
    "X_norm1=pd.DataFrame(scaler.transform(data1),columns = data1.columns)\n",
    "X_norm2=pd.DataFrame(scaler.transform(data2),columns = data1.columns)\n",
    "X_norm3=pd.DataFrame(scaler.transform(data3),columns = data1.columns)\n",
    "X_norm4=pd.DataFrame(scaler.transform(data4),columns = data1.columns)\n",
    "X_norm5=pd.DataFrame(scaler.transform(data5),columns = data1.columns)"
   ]
  },
  {
   "cell_type": "code",
   "execution_count": 6,
   "id": "d4b18af5",
   "metadata": {},
   "outputs": [
    {
     "data": {
      "text/plain": [
       "KMeans(init='random', n_clusters=4)"
      ]
     },
     "execution_count": 6,
     "metadata": {},
     "output_type": "execute_result"
    }
   ],
   "source": [
    "cls1=cluster.KMeans(n_clusters=4,init='random')\n",
    "cls1.fit(X_norm1)"
   ]
  },
  {
   "cell_type": "code",
   "execution_count": 27,
   "id": "6d8a5eef",
   "metadata": {},
   "outputs": [
    {
     "name": "stderr",
     "output_type": "stream",
     "text": [
      "/var/folders/rk/19mhn17506g7mynj9hbtw82h0000gn/T/ipykernel_2809/1710040120.py:2: SettingWithCopyWarning: \n",
      "A value is trying to be set on a copy of a slice from a DataFrame.\n",
      "Try using .loc[row_indexer,col_indexer] = value instead\n",
      "\n",
      "See the caveats in the documentation: https://pandas.pydata.org/pandas-docs/stable/user_guide/indexing.html#returning-a-view-versus-a-copy\n",
      "  data_1_cls['label']=cls1.labels_\n"
     ]
    }
   ],
   "source": [
    "data_1_cls=data_ord_1[['customer_unique_id']]\n",
    "data_1_cls['label']=cls1.labels_\n",
    "data_1_cls\n",
    "ari=[1]"
   ]
  },
  {
   "cell_type": "code",
   "execution_count": 8,
   "id": "bcf67244",
   "metadata": {},
   "outputs": [],
   "source": [
    "data_2_cls=data_ord_2[['customer_unique_id']]"
   ]
  },
  {
   "cell_type": "code",
   "execution_count": 9,
   "id": "16fd951e",
   "metadata": {},
   "outputs": [
    {
     "name": "stderr",
     "output_type": "stream",
     "text": [
      "/var/folders/rk/19mhn17506g7mynj9hbtw82h0000gn/T/ipykernel_2809/2227507588.py:1: SettingWithCopyWarning: \n",
      "A value is trying to be set on a copy of a slice from a DataFrame.\n",
      "Try using .loc[row_indexer,col_indexer] = value instead\n",
      "\n",
      "See the caveats in the documentation: https://pandas.pydata.org/pandas-docs/stable/user_guide/indexing.html#returning-a-view-versus-a-copy\n",
      "  data_2_cls['label']= cls1.predict(X_norm2)\n"
     ]
    }
   ],
   "source": [
    "data_2_cls['label']= cls1.predict(X_norm2)"
   ]
  },
  {
   "cell_type": "code",
   "execution_count": 10,
   "id": "f208e5a7",
   "metadata": {},
   "outputs": [
    {
     "data": {
      "text/html": [
       "<div>\n",
       "<style scoped>\n",
       "    .dataframe tbody tr th:only-of-type {\n",
       "        vertical-align: middle;\n",
       "    }\n",
       "\n",
       "    .dataframe tbody tr th {\n",
       "        vertical-align: top;\n",
       "    }\n",
       "\n",
       "    .dataframe thead th {\n",
       "        text-align: right;\n",
       "    }\n",
       "</style>\n",
       "<table border=\"1\" class=\"dataframe\">\n",
       "  <thead>\n",
       "    <tr style=\"text-align: right;\">\n",
       "      <th></th>\n",
       "      <th>customer_unique_id</th>\n",
       "      <th>label</th>\n",
       "    </tr>\n",
       "  </thead>\n",
       "  <tbody>\n",
       "    <tr>\n",
       "      <th>0</th>\n",
       "      <td>0000f46a3911fa3c0805444483337064</td>\n",
       "      <td>3</td>\n",
       "    </tr>\n",
       "    <tr>\n",
       "      <th>1</th>\n",
       "      <td>0000f6ccb0745a6a4b88665a16c9f078</td>\n",
       "      <td>1</td>\n",
       "    </tr>\n",
       "    <tr>\n",
       "      <th>2</th>\n",
       "      <td>0004aac84e0df4da2b147fca70cf8255</td>\n",
       "      <td>1</td>\n",
       "    </tr>\n",
       "    <tr>\n",
       "      <th>3</th>\n",
       "      <td>00053a61a98854899e70ed204dd4bafe</td>\n",
       "      <td>1</td>\n",
       "    </tr>\n",
       "    <tr>\n",
       "      <th>4</th>\n",
       "      <td>0005e1862207bf6ccc02e4228effd9a0</td>\n",
       "      <td>3</td>\n",
       "    </tr>\n",
       "    <tr>\n",
       "      <th>...</th>\n",
       "      <td>...</td>\n",
       "      <td>...</td>\n",
       "    </tr>\n",
       "    <tr>\n",
       "      <th>61590</th>\n",
       "      <td>fffbf87b7a1a6fa8b03f081c5f51a201</td>\n",
       "      <td>1</td>\n",
       "    </tr>\n",
       "    <tr>\n",
       "      <th>61591</th>\n",
       "      <td>fffcf5a5ff07b0908bd4e2dbc735a684</td>\n",
       "      <td>0</td>\n",
       "    </tr>\n",
       "    <tr>\n",
       "      <th>61592</th>\n",
       "      <td>fffea47cd6d3cc0a88bd621562a9d061</td>\n",
       "      <td>1</td>\n",
       "    </tr>\n",
       "    <tr>\n",
       "      <th>61593</th>\n",
       "      <td>ffff371b4d645b6ecea244b27531430a</td>\n",
       "      <td>3</td>\n",
       "    </tr>\n",
       "    <tr>\n",
       "      <th>61594</th>\n",
       "      <td>ffffd2657e2aad2907e67c3e9daecbeb</td>\n",
       "      <td>3</td>\n",
       "    </tr>\n",
       "  </tbody>\n",
       "</table>\n",
       "<p>61595 rows × 2 columns</p>\n",
       "</div>"
      ],
      "text/plain": [
       "                     customer_unique_id  label\n",
       "0      0000f46a3911fa3c0805444483337064      3\n",
       "1      0000f6ccb0745a6a4b88665a16c9f078      1\n",
       "2      0004aac84e0df4da2b147fca70cf8255      1\n",
       "3      00053a61a98854899e70ed204dd4bafe      1\n",
       "4      0005e1862207bf6ccc02e4228effd9a0      3\n",
       "...                                 ...    ...\n",
       "61590  fffbf87b7a1a6fa8b03f081c5f51a201      1\n",
       "61591  fffcf5a5ff07b0908bd4e2dbc735a684      0\n",
       "61592  fffea47cd6d3cc0a88bd621562a9d061      1\n",
       "61593  ffff371b4d645b6ecea244b27531430a      3\n",
       "61594  ffffd2657e2aad2907e67c3e9daecbeb      3\n",
       "\n",
       "[61595 rows x 2 columns]"
      ]
     },
     "execution_count": 10,
     "metadata": {},
     "output_type": "execute_result"
    }
   ],
   "source": [
    "data_2_cls"
   ]
  },
  {
   "cell_type": "code",
   "execution_count": 11,
   "id": "45ce16b3",
   "metadata": {},
   "outputs": [
    {
     "data": {
      "text/html": [
       "<div>\n",
       "<style scoped>\n",
       "    .dataframe tbody tr th:only-of-type {\n",
       "        vertical-align: middle;\n",
       "    }\n",
       "\n",
       "    .dataframe tbody tr th {\n",
       "        vertical-align: top;\n",
       "    }\n",
       "\n",
       "    .dataframe thead th {\n",
       "        text-align: right;\n",
       "    }\n",
       "</style>\n",
       "<table border=\"1\" class=\"dataframe\">\n",
       "  <thead>\n",
       "    <tr style=\"text-align: right;\">\n",
       "      <th></th>\n",
       "      <th>customer_unique_id</th>\n",
       "      <th>label_1</th>\n",
       "      <th>label_2</th>\n",
       "    </tr>\n",
       "  </thead>\n",
       "  <tbody>\n",
       "    <tr>\n",
       "      <th>0</th>\n",
       "      <td>0000f46a3911fa3c0805444483337064</td>\n",
       "      <td>3</td>\n",
       "      <td>3</td>\n",
       "    </tr>\n",
       "    <tr>\n",
       "      <th>1</th>\n",
       "      <td>0000f6ccb0745a6a4b88665a16c9f078</td>\n",
       "      <td>1</td>\n",
       "      <td>1</td>\n",
       "    </tr>\n",
       "    <tr>\n",
       "      <th>2</th>\n",
       "      <td>0004aac84e0df4da2b147fca70cf8255</td>\n",
       "      <td>1</td>\n",
       "      <td>1</td>\n",
       "    </tr>\n",
       "    <tr>\n",
       "      <th>3</th>\n",
       "      <td>00053a61a98854899e70ed204dd4bafe</td>\n",
       "      <td>1</td>\n",
       "      <td>1</td>\n",
       "    </tr>\n",
       "    <tr>\n",
       "      <th>4</th>\n",
       "      <td>0005e1862207bf6ccc02e4228effd9a0</td>\n",
       "      <td>3</td>\n",
       "      <td>3</td>\n",
       "    </tr>\n",
       "    <tr>\n",
       "      <th>...</th>\n",
       "      <td>...</td>\n",
       "      <td>...</td>\n",
       "      <td>...</td>\n",
       "    </tr>\n",
       "    <tr>\n",
       "      <th>58236</th>\n",
       "      <td>fffbf87b7a1a6fa8b03f081c5f51a201</td>\n",
       "      <td>1</td>\n",
       "      <td>1</td>\n",
       "    </tr>\n",
       "    <tr>\n",
       "      <th>58237</th>\n",
       "      <td>fffcf5a5ff07b0908bd4e2dbc735a684</td>\n",
       "      <td>0</td>\n",
       "      <td>0</td>\n",
       "    </tr>\n",
       "    <tr>\n",
       "      <th>58238</th>\n",
       "      <td>fffea47cd6d3cc0a88bd621562a9d061</td>\n",
       "      <td>1</td>\n",
       "      <td>1</td>\n",
       "    </tr>\n",
       "    <tr>\n",
       "      <th>58239</th>\n",
       "      <td>ffff371b4d645b6ecea244b27531430a</td>\n",
       "      <td>3</td>\n",
       "      <td>3</td>\n",
       "    </tr>\n",
       "    <tr>\n",
       "      <th>58240</th>\n",
       "      <td>ffffd2657e2aad2907e67c3e9daecbeb</td>\n",
       "      <td>3</td>\n",
       "      <td>3</td>\n",
       "    </tr>\n",
       "  </tbody>\n",
       "</table>\n",
       "<p>58241 rows × 3 columns</p>\n",
       "</div>"
      ],
      "text/plain": [
       "                     customer_unique_id  label_1  label_2\n",
       "0      0000f46a3911fa3c0805444483337064        3        3\n",
       "1      0000f6ccb0745a6a4b88665a16c9f078        1        1\n",
       "2      0004aac84e0df4da2b147fca70cf8255        1        1\n",
       "3      00053a61a98854899e70ed204dd4bafe        1        1\n",
       "4      0005e1862207bf6ccc02e4228effd9a0        3        3\n",
       "...                                 ...      ...      ...\n",
       "58236  fffbf87b7a1a6fa8b03f081c5f51a201        1        1\n",
       "58237  fffcf5a5ff07b0908bd4e2dbc735a684        0        0\n",
       "58238  fffea47cd6d3cc0a88bd621562a9d061        1        1\n",
       "58239  ffff371b4d645b6ecea244b27531430a        3        3\n",
       "58240  ffffd2657e2aad2907e67c3e9daecbeb        3        3\n",
       "\n",
       "[58241 rows x 3 columns]"
      ]
     },
     "execution_count": 11,
     "metadata": {},
     "output_type": "execute_result"
    }
   ],
   "source": [
    "df = pd.merge(data_1_cls, data_2_cls, on='customer_unique_id', suffixes=['_1', '_2'])\n",
    "df"
   ]
  },
  {
   "cell_type": "code",
   "execution_count": 28,
   "id": "5a876d1e",
   "metadata": {},
   "outputs": [
    {
     "data": {
      "text/plain": [
       "0.8745224458390455"
      ]
     },
     "execution_count": 28,
     "metadata": {},
     "output_type": "execute_result"
    }
   ],
   "source": [
    "ari.append(adjusted_rand_score(df['label_1'], df['label_2']))\n",
    "adjusted_rand_score(df['label_1'], df['label_2'])"
   ]
  },
  {
   "cell_type": "code",
   "execution_count": 29,
   "id": "7acb589f",
   "metadata": {},
   "outputs": [
    {
     "name": "stderr",
     "output_type": "stream",
     "text": [
      "/var/folders/rk/19mhn17506g7mynj9hbtw82h0000gn/T/ipykernel_2809/665261869.py:2: SettingWithCopyWarning: \n",
      "A value is trying to be set on a copy of a slice from a DataFrame.\n",
      "Try using .loc[row_indexer,col_indexer] = value instead\n",
      "\n",
      "See the caveats in the documentation: https://pandas.pydata.org/pandas-docs/stable/user_guide/indexing.html#returning-a-view-versus-a-copy\n",
      "  data_3_cls['label']= cls1.predict(X_norm3)\n"
     ]
    },
    {
     "data": {
      "text/plain": [
       "0.7535070442404913"
      ]
     },
     "execution_count": 29,
     "metadata": {},
     "output_type": "execute_result"
    }
   ],
   "source": [
    "data_3_cls=data_ord_3[['customer_unique_id']]\n",
    "data_3_cls['label']= cls1.predict(X_norm3)\n",
    "df2 = pd.merge(data_1_cls, data_3_cls, on='customer_unique_id', suffixes=['_1', '_2'])\n",
    "ari.append(adjusted_rand_score(df2['label_1'], df2['label_2']))\n",
    "adjusted_rand_score(df2['label_1'], df2['label_2'])"
   ]
  },
  {
   "cell_type": "code",
   "execution_count": 30,
   "id": "2037981f",
   "metadata": {},
   "outputs": [
    {
     "name": "stderr",
     "output_type": "stream",
     "text": [
      "/var/folders/rk/19mhn17506g7mynj9hbtw82h0000gn/T/ipykernel_2809/2506795852.py:2: SettingWithCopyWarning: \n",
      "A value is trying to be set on a copy of a slice from a DataFrame.\n",
      "Try using .loc[row_indexer,col_indexer] = value instead\n",
      "\n",
      "See the caveats in the documentation: https://pandas.pydata.org/pandas-docs/stable/user_guide/indexing.html#returning-a-view-versus-a-copy\n",
      "  data_4_cls['label']= cls1.predict(X_norm4)\n"
     ]
    },
    {
     "data": {
      "text/plain": [
       "0.6368390286768604"
      ]
     },
     "execution_count": 30,
     "metadata": {},
     "output_type": "execute_result"
    }
   ],
   "source": [
    "data_4_cls=data_ord_4[['customer_unique_id']]\n",
    "data_4_cls['label']= cls1.predict(X_norm4)\n",
    "df2 = pd.merge(data_1_cls, data_4_cls, on='customer_unique_id', suffixes=['_1', '_2'])\n",
    "ari.append(adjusted_rand_score(df2['label_1'], df2['label_2']))\n",
    "adjusted_rand_score(df2['label_1'], df2['label_2'])"
   ]
  },
  {
   "cell_type": "markdown",
   "id": "605c4ed8",
   "metadata": {},
   "source": [
    "Au delà de 45 jours on pred de la performence, "
   ]
  },
  {
   "cell_type": "code",
   "execution_count": 31,
   "id": "3ac8a381",
   "metadata": {},
   "outputs": [
    {
     "data": {
      "text/plain": [
       "[1, 0.8745224458390455, 0.7535070442404913, 0.6368390286768604]"
      ]
     },
     "execution_count": 31,
     "metadata": {},
     "output_type": "execute_result"
    }
   ],
   "source": [
    "ari"
   ]
  },
  {
   "cell_type": "code",
   "execution_count": 33,
   "id": "b10bc55c",
   "metadata": {},
   "outputs": [
    {
     "data": {
      "text/plain": [
       "[<matplotlib.lines.Line2D at 0x7fedf27c51c0>]"
      ]
     },
     "execution_count": 33,
     "metadata": {},
     "output_type": "execute_result"
    },
    {
     "data": {
      "image/png": "[encoded data removed]",
      "text/plain": [
       "<Figure size 432x288 with 1 Axes>"
      ]
     },
     "metadata": {},
     "output_type": "display_data"
    }
   ],
   "source": [
    "plt.plot(range(0,46,15),ari, marker='o')\n",
    "plt.plot([0,45],[0.90,0.90],'k')\n",
    "plt.plot([0,45],[0.8,0.8],'r')\n",
    "plt.plot([0,45],[0.65,0.65],'r')"
   ]
  },
  {
   "cell_type": "code",
   "execution_count": null,
   "id": "0118007b",
   "metadata": {},
   "outputs": [],
   "source": []
  }
 ],
 "metadata": {
  "kernelspec": {
   "display_name": "Python 3 (ipykernel)",
   "language": "python",
   "name": "python3"
  },
  "language_info": {
   "codemirror_mode": {
    "name": "ipython",
    "version": 3
   },
   "file_extension": ".py",
   "mimetype": "text/x-python",
   "name": "python",
   "nbconvert_exporter": "python",
   "pygments_lexer": "ipython3",
   "version": "3.9.12"
  }
 },
 "nbformat": 4,
 "nbformat_minor": 5
}
